{
 "cells": [
  {
   "cell_type": "markdown",
   "metadata": {},
   "source": [
    "# Recommender System with GraphLab\n",
    "In which we demonstrate some features of GraphLab while building a movie recommendation system"
   ]
  },
  {
   "cell_type": "code",
   "execution_count": null,
   "metadata": {
    "collapsed": true
   },
   "outputs": [],
   "source": [
    "import graphlab as gl\n",
    "\n"
   ]
  },
  {
   "cell_type": "markdown",
   "metadata": {},
   "source": [
    "The factorization recommender tries to minimize the function:\n",
    "\\begin{equation}\n",
    "\\min_{\\mathbf{w},\\mathbf{a},\\mathbf{b},\\mathbf{U},\\mathbf{V}} \\frac{1}{\\lvert\\mathcal{D}\\rvert} \\sum_{i,j,r_{i,j} \\in \\mathcal{D}}{ \\mathcal{L}\\bigl(score\\left(i,j\\right),r_{i,j} \\bigr) + \\lambda_{1}\\left(\\lVert\\mathbf{w}\\rVert_{2}^{2} + \\Vert\\mathbf{a}\\Vert_{2}^{2} + \\Vert\\mathbf{b}\\Vert_{2}^{2}\\right) + \\lambda_{2}\\left(\\Vert\\mathbf{U}\\Vert_{2}^{2} + \\Vert\\mathbf{V}\\Vert_{2}^{2}\\right)} \n",
    "\\end{equation}\n",
    "where:\n",
    "\\begin{equation}\n",
    "score\\left(i,j\\right) = \\mu + w_i + w_j +\\mathbf{a}^{T}\\mathbf{x}_{i} + \\mathbf{b}^{T}\\mathbf{y}_{i} + \\mathbf{u}_{i}^{T}\\mathbf{v}_{j}\n",
    "\\end{equation}\n",
    "and\n",
    "$\\mu$ is the overall average rating, $w_i$ is the user bias, $w_j$ is the item bias, $\\mathbf{a}$ and $\\mathbf{x}$ are the user data, $\\mathbf{a}$ and $\\mathbf{x}$ are the item data, and $\\mathbf{u}$ and $\\mathbf{v}$ are the user and item factors"
   ]
  },
  {
   "cell_type": "markdown",
   "metadata": {},
   "source": [
    "We do a lot with a recommender model. First we can get recommendations for a user:\n",
    "```python\n",
    "top_movies = recommender.recommend([1])['movieid']\n",
    "movies.filter_by(top_movies, 'movieid')\n",
    "```"
   ]
  },
  {
   "cell_type": "markdown",
   "metadata": {},
   "source": [
    "We can find similar items to a movie:\n",
    "```python\n",
    "inception_id = movies.filter_by('Inception (2010)', 'title')['movieid']\n",
    "similar_movies = recommender.get_similar_items(inception_id)['similar']\n",
    "movies.filter_by(similar_movies, 'movieid')\n",
    "```\n"
   ]
  },
  {
   "cell_type": "code",
   "execution_count": null,
   "metadata": {
    "collapsed": true
   },
   "outputs": [],
   "source": []
  }
 ],
 "metadata": {
  "kernelspec": {
   "display_name": "Python 2",
   "language": "python",
   "name": "python2"
  },
  "language_info": {
   "codemirror_mode": {
    "name": "ipython",
    "version": 2
   },
   "file_extension": ".py",
   "mimetype": "text/x-python",
   "name": "python",
   "nbconvert_exporter": "python",
   "pygments_lexer": "ipython2",
   "version": "2.7.11"
  }
 },
 "nbformat": 4,
 "nbformat_minor": 0
}
